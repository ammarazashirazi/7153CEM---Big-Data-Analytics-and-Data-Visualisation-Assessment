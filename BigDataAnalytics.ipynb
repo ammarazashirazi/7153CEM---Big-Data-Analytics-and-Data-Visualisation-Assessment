{
  "nbformat": 4,
  "nbformat_minor": 0,
  "metadata": {
    "colab": {
      "provenance": []
    },
    "kernelspec": {
      "name": "python3",
      "display_name": "Python 3"
    },
    "language_info": {
      "name": "python"
    }
  },
  "cells": [
    {
      "cell_type": "code",
      "source": [
        "from google.colab import drive\n",
        "drive.mount('/content/drive')"
      ],
      "metadata": {
        "colab": {
          "base_uri": "https://localhost:8080/"
        },
        "id": "InfMfmSQWgV6",
        "outputId": "2f37649a-ad94-44ef-c284-39e4624d3aa3"
      },
      "execution_count": 139,
      "outputs": [
        {
          "output_type": "stream",
          "name": "stdout",
          "text": [
            "Drive already mounted at /content/drive; to attempt to forcibly remount, call drive.mount(\"/content/drive\", force_remount=True).\n"
          ]
        }
      ]
    },
    {
      "cell_type": "code",
      "execution_count": 140,
      "metadata": {
        "colab": {
          "base_uri": "https://localhost:8080/"
        },
        "id": "hDr433gKNA__",
        "outputId": "b507f63f-1afa-471b-cb0a-f83b3f0ed151"
      },
      "outputs": [
        {
          "output_type": "stream",
          "name": "stdout",
          "text": [
            "Requirement already satisfied: pyspark in /usr/local/lib/python3.10/dist-packages (3.5.1)\n",
            "Requirement already satisfied: py4j==0.10.9.7 in /usr/local/lib/python3.10/dist-packages (from pyspark) (0.10.9.7)\n"
          ]
        }
      ],
      "source": [
        "!pip install pyspark"
      ]
    },
    {
      "cell_type": "code",
      "source": [
        "from pyspark.sql import SparkSession\n",
        "spark = SparkSession.builder\\\n",
        "        .master(\"local\")\\\n",
        "        .appName(\"Colab\")\\\n",
        "        .config('spark.ui.port', '4050')\\\n",
        "        .getOrCreate()"
      ],
      "metadata": {
        "id": "uiYxJsdlWwq_"
      },
      "execution_count": 141,
      "outputs": []
    },
    {
      "cell_type": "code",
      "source": [
        "spark"
      ],
      "metadata": {
        "colab": {
          "base_uri": "https://localhost:8080/",
          "height": 221
        },
        "id": "xF2yjbXsWyBe",
        "outputId": "04938593-fe2f-4b26-ff69-1e24a75841bc"
      },
      "execution_count": 142,
      "outputs": [
        {
          "output_type": "execute_result",
          "data": {
            "text/plain": [
              "<pyspark.sql.session.SparkSession at 0x7a13b8526380>"
            ],
            "text/html": [
              "\n",
              "            <div>\n",
              "                <p><b>SparkSession - in-memory</b></p>\n",
              "                \n",
              "        <div>\n",
              "            <p><b>SparkContext</b></p>\n",
              "\n",
              "            <p><a href=\"http://68d54094ff0b:4050\">Spark UI</a></p>\n",
              "\n",
              "            <dl>\n",
              "              <dt>Version</dt>\n",
              "                <dd><code>v3.5.1</code></dd>\n",
              "              <dt>Master</dt>\n",
              "                <dd><code>local</code></dd>\n",
              "              <dt>AppName</dt>\n",
              "                <dd><code>Colab</code></dd>\n",
              "            </dl>\n",
              "        </div>\n",
              "        \n",
              "            </div>\n",
              "        "
            ]
          },
          "metadata": {},
          "execution_count": 142
        }
      ]
    },
    {
      "cell_type": "code",
      "source": [
        "pip install -U scikit-learn"
      ],
      "metadata": {
        "colab": {
          "base_uri": "https://localhost:8080/"
        },
        "id": "p6ZH9cHRseQY",
        "outputId": "2b31a996-4468-4ed2-8326-68a440f017c8"
      },
      "execution_count": 143,
      "outputs": [
        {
          "output_type": "stream",
          "name": "stdout",
          "text": [
            "Requirement already satisfied: scikit-learn in /usr/local/lib/python3.10/dist-packages (1.4.1.post1)\n",
            "Requirement already satisfied: numpy<2.0,>=1.19.5 in /usr/local/lib/python3.10/dist-packages (from scikit-learn) (1.25.2)\n",
            "Requirement already satisfied: scipy>=1.6.0 in /usr/local/lib/python3.10/dist-packages (from scikit-learn) (1.11.4)\n",
            "Requirement already satisfied: joblib>=1.2.0 in /usr/local/lib/python3.10/dist-packages (from scikit-learn) (1.3.2)\n",
            "Requirement already satisfied: threadpoolctl>=2.0.0 in /usr/local/lib/python3.10/dist-packages (from scikit-learn) (3.4.0)\n"
          ]
        }
      ]
    },
    {
      "cell_type": "code",
      "source": [
        "pip install findspark"
      ],
      "metadata": {
        "colab": {
          "base_uri": "https://localhost:8080/"
        },
        "id": "ZGbRD_wVsvXE",
        "outputId": "d9f9e1b1-58e7-4f34-cce5-24753c4fc8d5"
      },
      "execution_count": 144,
      "outputs": [
        {
          "output_type": "stream",
          "name": "stdout",
          "text": [
            "Requirement already satisfied: findspark in /usr/local/lib/python3.10/dist-packages (2.0.1)\n"
          ]
        }
      ]
    },
    {
      "cell_type": "code",
      "source": [
        "import findspark\n",
        "\n",
        "findspark.init()"
      ],
      "metadata": {
        "id": "DSA9oj57tY3y"
      },
      "execution_count": 145,
      "outputs": []
    },
    {
      "cell_type": "code",
      "source": [
        "# Use Spark to read in the dataset file.\n",
        "data = spark.read.csv(\"/content/drive/MyDrive/BigDataAnalyticsAndVisualization/ObesityDataSet_raw_and_data_sinthetic.csv\",inferSchema=True,header=True)\n",
        "\n",
        "data.show()"
      ],
      "metadata": {
        "id": "HsTVmg5vthno",
        "colab": {
          "base_uri": "https://localhost:8080/"
        },
        "outputId": "92d2227c-5d95-401d-aff4-ce1a61e46604"
      },
      "execution_count": 176,
      "outputs": [
        {
          "output_type": "stream",
          "name": "stdout",
          "text": [
            "+------+----+------+------+------------------------------+----+----+---+----------+-----+----+---+---+---+----------+--------------------+-------------------+\n",
            "|Gender| Age|Height|Weight|family_history_with_overweight|FAVC|FCVC|NCP|      CAEC|SMOKE|CH2O|SCC|FAF|TUE|      CALC|              MTRANS|         NObeyesdad|\n",
            "+------+----+------+------+------------------------------+----+----+---+----------+-----+----+---+---+---+----------+--------------------+-------------------+\n",
            "|Female|21.0|  1.62|  64.0|                           yes|  no| 2.0|3.0| Sometimes|   no| 2.0| no|0.0|1.0|        no|Public_Transporta...|      Normal_Weight|\n",
            "|Female|21.0|  1.52|  56.0|                           yes|  no| 3.0|3.0| Sometimes|  yes| 3.0|yes|3.0|0.0| Sometimes|Public_Transporta...|      Normal_Weight|\n",
            "|  Male|23.0|   1.8|  77.0|                           yes|  no| 2.0|3.0| Sometimes|   no| 2.0| no|2.0|1.0|Frequently|Public_Transporta...|      Normal_Weight|\n",
            "|  Male|27.0|   1.8|  87.0|                            no|  no| 3.0|3.0| Sometimes|   no| 2.0| no|2.0|0.0|Frequently|             Walking| Overweight_Level_I|\n",
            "|  Male|22.0|  1.78|  89.8|                            no|  no| 2.0|1.0| Sometimes|   no| 2.0| no|0.0|0.0| Sometimes|Public_Transporta...|Overweight_Level_II|\n",
            "|  Male|29.0|  1.62|  53.0|                            no| yes| 2.0|3.0| Sometimes|   no| 2.0| no|0.0|0.0| Sometimes|          Automobile|      Normal_Weight|\n",
            "|Female|23.0|   1.5|  55.0|                           yes| yes| 3.0|3.0| Sometimes|   no| 2.0| no|1.0|0.0| Sometimes|           Motorbike|      Normal_Weight|\n",
            "|  Male|22.0|  1.64|  53.0|                            no|  no| 2.0|3.0| Sometimes|   no| 2.0| no|3.0|0.0| Sometimes|Public_Transporta...|      Normal_Weight|\n",
            "|  Male|24.0|  1.78|  64.0|                           yes| yes| 3.0|3.0| Sometimes|   no| 2.0| no|1.0|1.0|Frequently|Public_Transporta...|      Normal_Weight|\n",
            "|  Male|22.0|  1.72|  68.0|                           yes| yes| 2.0|3.0| Sometimes|   no| 2.0| no|1.0|1.0|        no|Public_Transporta...|      Normal_Weight|\n",
            "|  Male|26.0|  1.85| 105.0|                           yes| yes| 3.0|3.0|Frequently|   no| 3.0| no|2.0|2.0| Sometimes|Public_Transporta...|     Obesity_Type_I|\n",
            "|Female|21.0|  1.72|  80.0|                           yes| yes| 2.0|3.0|Frequently|   no| 2.0|yes|2.0|1.0| Sometimes|Public_Transporta...|Overweight_Level_II|\n",
            "|  Male|22.0|  1.65|  56.0|                            no|  no| 3.0|3.0| Sometimes|   no| 3.0| no|2.0|0.0| Sometimes|Public_Transporta...|      Normal_Weight|\n",
            "|  Male|41.0|   1.8|  99.0|                            no| yes| 2.0|3.0| Sometimes|   no| 2.0| no|2.0|1.0|Frequently|          Automobile|     Obesity_Type_I|\n",
            "|  Male|23.0|  1.77|  60.0|                           yes| yes| 3.0|1.0| Sometimes|   no| 1.0| no|1.0|1.0| Sometimes|Public_Transporta...|      Normal_Weight|\n",
            "|Female|22.0|   1.7|  66.0|                           yes|  no| 3.0|3.0|    Always|   no| 2.0|yes|2.0|1.0| Sometimes|Public_Transporta...|      Normal_Weight|\n",
            "|  Male|27.0|  1.93| 102.0|                           yes| yes| 2.0|1.0| Sometimes|   no| 1.0| no|1.0|0.0| Sometimes|Public_Transporta...|Overweight_Level_II|\n",
            "|Female|29.0|  1.53|  78.0|                            no| yes| 2.0|1.0| Sometimes|   no| 2.0| no|0.0|0.0|        no|          Automobile|     Obesity_Type_I|\n",
            "|Female|30.0|  1.71|  82.0|                           yes| yes| 3.0|4.0|Frequently|  yes| 1.0| no|0.0|0.0|        no|          Automobile|Overweight_Level_II|\n",
            "|Female|23.0|  1.65|  70.0|                           yes|  no| 2.0|1.0| Sometimes|   no| 2.0| no|0.0|0.0| Sometimes|Public_Transporta...| Overweight_Level_I|\n",
            "+------+----+------+------+------------------------------+----+----+---+----------+-----+----+---+---+---+----------+--------------------+-------------------+\n",
            "only showing top 20 rows\n",
            "\n"
          ]
        }
      ]
    },
    {
      "cell_type": "code",
      "source": [
        "# Print the Schema of the DataFrame\n",
        "data.printSchema()"
      ],
      "metadata": {
        "colab": {
          "base_uri": "https://localhost:8080/"
        },
        "id": "6r9F_nEnthqM",
        "outputId": "afade045-b16b-4fff-a813-dc9d90596af8"
      },
      "execution_count": 148,
      "outputs": [
        {
          "output_type": "stream",
          "name": "stdout",
          "text": [
            "root\n",
            " |-- Gender: string (nullable = true)\n",
            " |-- Age: double (nullable = true)\n",
            " |-- Height: double (nullable = true)\n",
            " |-- Weight: double (nullable = true)\n",
            " |-- family_history_with_overweight: string (nullable = true)\n",
            " |-- FAVC: string (nullable = true)\n",
            " |-- FCVC: double (nullable = true)\n",
            " |-- NCP: double (nullable = true)\n",
            " |-- CAEC: string (nullable = true)\n",
            " |-- SMOKE: string (nullable = true)\n",
            " |-- CH2O: double (nullable = true)\n",
            " |-- SCC: string (nullable = true)\n",
            " |-- FAF: double (nullable = true)\n",
            " |-- TUE: double (nullable = true)\n",
            " |-- CALC: string (nullable = true)\n",
            " |-- MTRANS: string (nullable = true)\n",
            " |-- NObeyesdad: string (nullable = true)\n",
            "\n"
          ]
        }
      ]
    },
    {
      "cell_type": "code",
      "source": [
        "data.columns"
      ],
      "metadata": {
        "colab": {
          "base_uri": "https://localhost:8080/"
        },
        "id": "yui565zwuDMR",
        "outputId": "2a3b533a-3930-4630-dbac-468d6596b4ad"
      },
      "execution_count": 149,
      "outputs": [
        {
          "output_type": "execute_result",
          "data": {
            "text/plain": [
              "['Gender',\n",
              " 'Age',\n",
              " 'Height',\n",
              " 'Weight',\n",
              " 'family_history_with_overweight',\n",
              " 'FAVC',\n",
              " 'FCVC',\n",
              " 'NCP',\n",
              " 'CAEC',\n",
              " 'SMOKE',\n",
              " 'CH2O',\n",
              " 'SCC',\n",
              " 'FAF',\n",
              " 'TUE',\n",
              " 'CALC',\n",
              " 'MTRANS',\n",
              " 'NObeyesdad']"
            ]
          },
          "metadata": {},
          "execution_count": 149
        }
      ]
    },
    {
      "cell_type": "code",
      "source": [
        "data_no_duplicates = data.dropDuplicates()\n",
        "\n",
        "print('Total observations in Dataset: ', data.count())\n",
        "print('Remaining obsercations after removing duplicates form Dataset: ', data_no_duplicates.count())"
      ],
      "metadata": {
        "colab": {
          "base_uri": "https://localhost:8080/"
        },
        "id": "mMcr9iE-o4qG",
        "outputId": "caea6b46-4b77-4df8-8084-dc6e11df242e"
      },
      "execution_count": 179,
      "outputs": [
        {
          "output_type": "stream",
          "name": "stdout",
          "text": [
            "Total observations in Dataset:  2111\n",
            "Remaining obsercations after removing duplicates form Dataset:  2087\n"
          ]
        }
      ]
    },
    {
      "cell_type": "code",
      "source": [
        "# Identify duplicate rows\n",
        "duplicate_rows = data.groupBy(data.columns).count().where(col(\"count\") > 1)\n",
        "\n",
        "# Identify missing values\n",
        "missing_values = data.select([spark_sum(col(c).isNull().cast(\"int\")).alias(c) for c in data.columns])\n",
        "\n",
        "print(\"\\nSummary statistics of the dataset:\")\n",
        "data.describe().show()\n",
        "\n",
        "print(\"\\nDuplicate rows:\")\n",
        "duplicate_rows.show(truncate=False)\n",
        "\n",
        "print(\"\\nMissing values:\")\n",
        "missing_values.show()"
      ],
      "metadata": {
        "colab": {
          "base_uri": "https://localhost:8080/"
        },
        "id": "T1cSvCuqLUMz",
        "outputId": "c2c5286c-cb9e-4d35-e504-1ba9d91d0a8b"
      },
      "execution_count": 177,
      "outputs": [
        {
          "output_type": "stream",
          "name": "stdout",
          "text": [
            "\n",
            "Summary statistics of the dataset:\n",
            "+-------+------+-----------------+-------------------+------------------+------------------------------+----+------------------+------------------+------+-----+------------------+----+------------------+------------------+------+----------+-------------------+\n",
            "|summary|Gender|              Age|             Height|            Weight|family_history_with_overweight|FAVC|              FCVC|               NCP|  CAEC|SMOKE|              CH2O| SCC|               FAF|               TUE|  CALC|    MTRANS|         NObeyesdad|\n",
            "+-------+------+-----------------+-------------------+------------------+------------------------------+----+------------------+------------------+------+-----+------------------+----+------------------+------------------+------+----------+-------------------+\n",
            "|  count|  2111|             2111|               2111|              2111|                          2111|2111|              2111|              2111|  2111| 2111|              2111|2111|              2111|              2111|  2111|      2111|               2111|\n",
            "|   mean|  NULL|24.31259990857412| 1.7016773533870178| 86.58605812648037|                          NULL|NULL|2.4190430615821916| 2.685628049739461|  NULL| NULL|   2.0080114040739|NULL| 1.010297695878732|0.6578659237328296|  NULL|      NULL|               NULL|\n",
            "| stddev|  NULL|6.345968273732226|0.09330481986792012|26.191171745204706|                          NULL|NULL|0.5339265785032998|0.7780386488418611|  NULL| NULL|0.6129534517968718|NULL|0.8505924308366988|0.6089272596763785|  NULL|      NULL|               NULL|\n",
            "|    min|Female|             14.0|               1.45|              39.0|                            no|  no|               1.0|               1.0|Always|   no|               1.0|  no|               0.0|               0.0|Always|Automobile|Insufficient_Weight|\n",
            "|    max|  Male|             61.0|               1.98|             173.0|                           yes| yes|               3.0|               4.0|    no|  yes|               3.0| yes|               3.0|               2.0|    no|   Walking|Overweight_Level_II|\n",
            "+-------+------+-----------------+-------------------+------------------+------------------------------+----+------------------+------------------+------+-----+------------------+----+------------------+------------------+------+----------+-------------------+\n",
            "\n",
            "\n",
            "Duplicate rows:\n",
            "+------+----+------+------+------------------------------+----+----+---+----------+-----+----+---+---+---+---------+---------------------+-------------------+-----+\n",
            "|Gender|Age |Height|Weight|family_history_with_overweight|FAVC|FCVC|NCP|CAEC      |SMOKE|CH2O|SCC|FAF|TUE|CALC     |MTRANS               |NObeyesdad         |count|\n",
            "+------+----+------+------+------------------------------+----+----+---+----------+-----+----+---+---+---+---------+---------------------+-------------------+-----+\n",
            "|Male  |18.0|1.72  |53.0  |yes                           |yes |2.0 |3.0|Sometimes |no   |2.0 |no |0.0|2.0|Sometimes|Public_Transportation|Insufficient_Weight|2    |\n",
            "|Male  |21.0|1.62  |70.0  |no                            |yes |2.0 |1.0|no        |no   |3.0 |no |1.0|0.0|Sometimes|Public_Transportation|Overweight_Level_I |15   |\n",
            "|Female|21.0|1.52  |42.0  |no                            |no  |3.0 |1.0|Frequently|no   |1.0 |no |0.0|0.0|Sometimes|Public_Transportation|Insufficient_Weight|2    |\n",
            "|Female|22.0|1.69  |65.0  |yes                           |yes |2.0 |3.0|Sometimes |no   |2.0 |no |1.0|1.0|Sometimes|Public_Transportation|Normal_Weight      |2    |\n",
            "|Female|25.0|1.57  |55.0  |no                            |yes |2.0 |1.0|Sometimes |no   |2.0 |no |2.0|0.0|Sometimes|Public_Transportation|Normal_Weight      |2    |\n",
            "|Female|16.0|1.66  |58.0  |no                            |no  |2.0 |1.0|Sometimes |no   |1.0 |no |0.0|1.0|no       |Walking              |Normal_Weight      |2    |\n",
            "|Female|21.0|1.52  |42.0  |no                            |yes |3.0 |1.0|Frequently|no   |1.0 |no |0.0|0.0|Sometimes|Public_Transportation|Insufficient_Weight|4    |\n",
            "|Female|18.0|1.62  |55.0  |yes                           |yes |2.0 |3.0|Frequently|no   |1.0 |no |1.0|1.0|no       |Public_Transportation|Normal_Weight      |2    |\n",
            "|Male  |22.0|1.74  |75.0  |yes                           |yes |3.0 |3.0|Frequently|no   |1.0 |no |1.0|0.0|no       |Automobile           |Normal_Weight      |2    |\n",
            "+------+----+------+------+------------------------------+----+----+---+----------+-----+----+---+---+---+---------+---------------------+-------------------+-----+\n",
            "\n",
            "\n",
            "Missing values:\n",
            "+------+---+------+------+------------------------------+----+----+---+----+-----+----+---+---+---+----+------+----------+\n",
            "|Gender|Age|Height|Weight|family_history_with_overweight|FAVC|FCVC|NCP|CAEC|SMOKE|CH2O|SCC|FAF|TUE|CALC|MTRANS|NObeyesdad|\n",
            "+------+---+------+------+------------------------------+----+----+---+----+-----+----+---+---+---+----+------+----------+\n",
            "|     0|  0|     0|     0|                             0|   0|   0|  0|   0|    0|   0|  0|  0|  0|   0|     0|         0|\n",
            "+------+---+------+------+------------------------------+----+----+---+----+-----+----+---+---+---+----+------+----------+\n",
            "\n"
          ]
        }
      ]
    },
    {
      "cell_type": "code",
      "source": [
        "from pyspark.ml.feature import StringIndexer\n",
        "\n",
        "# List of categorical columns\n",
        "categorical_cols = ['Gender', 'family_history_with_overweight', 'FAVC', 'CAEC', 'SMOKE', 'SCC', 'CALC', 'MTRANS', 'NObeyesdad']\n",
        "\n",
        "# Initialize StringIndexers for each categorical column\n",
        "indexers = [StringIndexer(inputCol=col, outputCol=col+\"_index\", handleInvalid=\"keep\") for col in categorical_cols]\n",
        "\n",
        "# Fit and transform the DataFrame with StringIndexers\n",
        "indexed_data = data\n",
        "for indexer in indexers:\n",
        "    indexed_data = indexer.fit(indexed_data).transform(indexed_data)\n",
        "\n",
        "indexed_data.show(5)"
      ],
      "metadata": {
        "id": "mr1TLU8guDS7",
        "colab": {
          "base_uri": "https://localhost:8080/"
        },
        "outputId": "bbde85f4-046d-4568-a16c-22b0828bb13b"
      },
      "execution_count": 151,
      "outputs": [
        {
          "output_type": "stream",
          "name": "stdout",
          "text": [
            "+------+----+------+------+------------------------------+----+----+---+---------+-----+----+---+---+---+----------+--------------------+-------------------+------------+------------------------------------+----------+----------+-----------+---------+----------+------------+----------------+\n",
            "|Gender| Age|Height|Weight|family_history_with_overweight|FAVC|FCVC|NCP|     CAEC|SMOKE|CH2O|SCC|FAF|TUE|      CALC|              MTRANS|         NObeyesdad|Gender_index|family_history_with_overweight_index|FAVC_index|CAEC_index|SMOKE_index|SCC_index|CALC_index|MTRANS_index|NObeyesdad_index|\n",
            "+------+----+------+------+------------------------------+----+----+---+---------+-----+----+---+---+---+----------+--------------------+-------------------+------------+------------------------------------+----------+----------+-----------+---------+----------+------------+----------------+\n",
            "|Female|21.0|  1.62|  64.0|                           yes|  no| 2.0|3.0|Sometimes|   no| 2.0| no|0.0|1.0|        no|Public_Transporta...|      Normal_Weight|         1.0|                                 0.0|       1.0|       0.0|        0.0|      0.0|       1.0|         0.0|             5.0|\n",
            "|Female|21.0|  1.52|  56.0|                           yes|  no| 3.0|3.0|Sometimes|  yes| 3.0|yes|3.0|0.0| Sometimes|Public_Transporta...|      Normal_Weight|         1.0|                                 0.0|       1.0|       0.0|        1.0|      1.0|       0.0|         0.0|             5.0|\n",
            "|  Male|23.0|   1.8|  77.0|                           yes|  no| 2.0|3.0|Sometimes|   no| 2.0| no|2.0|1.0|Frequently|Public_Transporta...|      Normal_Weight|         0.0|                                 0.0|       1.0|       0.0|        0.0|      0.0|       2.0|         0.0|             5.0|\n",
            "|  Male|27.0|   1.8|  87.0|                            no|  no| 3.0|3.0|Sometimes|   no| 2.0| no|2.0|0.0|Frequently|             Walking| Overweight_Level_I|         0.0|                                 1.0|       1.0|       0.0|        0.0|      0.0|       2.0|         2.0|             3.0|\n",
            "|  Male|22.0|  1.78|  89.8|                            no|  no| 2.0|1.0|Sometimes|   no| 2.0| no|0.0|0.0| Sometimes|Public_Transporta...|Overweight_Level_II|         0.0|                                 1.0|       1.0|       0.0|        0.0|      0.0|       0.0|         0.0|             4.0|\n",
            "+------+----+------+------+------------------------------+----+----+---+---------+-----+----+---+---+---+----------+--------------------+-------------------+------------+------------------------------------+----------+----------+-----------+---------+----------+------------+----------------+\n",
            "only showing top 5 rows\n",
            "\n"
          ]
        }
      ]
    },
    {
      "cell_type": "code",
      "source": [
        "# Import VectorAssembler and Vectors\n",
        "from pyspark.ml.linalg import Vectors\n",
        "from pyspark.ml.feature import VectorAssembler\n",
        "\n",
        "# List of input feature columns\n",
        "feature_columns = ['Age', 'Height', 'Weight', 'FCVC', 'NCP', 'CH2O', 'FAF', 'TUE'] + [col+\"_index\" for col in categorical_cols]\n",
        "\n",
        "# Initialize VectorAssembler\n",
        "assembler = VectorAssembler(\n",
        "                  inputCols=feature_columns,\n",
        "                  outputCol=\"features\")\n",
        "\n",
        "# Transform the DataFrame with VectorAssembler\n",
        "final_data = assembler.transform(indexed_data)\n",
        "\n",
        "# Show the transformed DataFrame\n",
        "final_data.show(10)\n"
      ],
      "metadata": {
        "colab": {
          "base_uri": "https://localhost:8080/"
        },
        "id": "wJ98OaJQuDVf",
        "outputId": "cc571b89-76c3-4301-a350-c6a8eff8e3ec"
      },
      "execution_count": 152,
      "outputs": [
        {
          "output_type": "stream",
          "name": "stdout",
          "text": [
            "+------+----+------+------+------------------------------+----+----+---+---------+-----+----+---+---+---+----------+--------------------+-------------------+------------+------------------------------------+----------+----------+-----------+---------+----------+------------+----------------+--------------------+\n",
            "|Gender| Age|Height|Weight|family_history_with_overweight|FAVC|FCVC|NCP|     CAEC|SMOKE|CH2O|SCC|FAF|TUE|      CALC|              MTRANS|         NObeyesdad|Gender_index|family_history_with_overweight_index|FAVC_index|CAEC_index|SMOKE_index|SCC_index|CALC_index|MTRANS_index|NObeyesdad_index|            features|\n",
            "+------+----+------+------+------------------------------+----+----+---+---------+-----+----+---+---+---+----------+--------------------+-------------------+------------+------------------------------------+----------+----------+-----------+---------+----------+------------+----------------+--------------------+\n",
            "|Female|21.0|  1.62|  64.0|                           yes|  no| 2.0|3.0|Sometimes|   no| 2.0| no|0.0|1.0|        no|Public_Transporta...|      Normal_Weight|         1.0|                                 0.0|       1.0|       0.0|        0.0|      0.0|       1.0|         0.0|             5.0|[21.0,1.62,64.0,2...|\n",
            "|Female|21.0|  1.52|  56.0|                           yes|  no| 3.0|3.0|Sometimes|  yes| 3.0|yes|3.0|0.0| Sometimes|Public_Transporta...|      Normal_Weight|         1.0|                                 0.0|       1.0|       0.0|        1.0|      1.0|       0.0|         0.0|             5.0|[21.0,1.52,56.0,3...|\n",
            "|  Male|23.0|   1.8|  77.0|                           yes|  no| 2.0|3.0|Sometimes|   no| 2.0| no|2.0|1.0|Frequently|Public_Transporta...|      Normal_Weight|         0.0|                                 0.0|       1.0|       0.0|        0.0|      0.0|       2.0|         0.0|             5.0|[23.0,1.8,77.0,2....|\n",
            "|  Male|27.0|   1.8|  87.0|                            no|  no| 3.0|3.0|Sometimes|   no| 2.0| no|2.0|0.0|Frequently|             Walking| Overweight_Level_I|         0.0|                                 1.0|       1.0|       0.0|        0.0|      0.0|       2.0|         2.0|             3.0|[27.0,1.8,87.0,3....|\n",
            "|  Male|22.0|  1.78|  89.8|                            no|  no| 2.0|1.0|Sometimes|   no| 2.0| no|0.0|0.0| Sometimes|Public_Transporta...|Overweight_Level_II|         0.0|                                 1.0|       1.0|       0.0|        0.0|      0.0|       0.0|         0.0|             4.0|(17,[0,1,2,3,4,5,...|\n",
            "|  Male|29.0|  1.62|  53.0|                            no| yes| 2.0|3.0|Sometimes|   no| 2.0| no|0.0|0.0| Sometimes|          Automobile|      Normal_Weight|         0.0|                                 1.0|       0.0|       0.0|        0.0|      0.0|       0.0|         1.0|             5.0|(17,[0,1,2,3,4,5,...|\n",
            "|Female|23.0|   1.5|  55.0|                           yes| yes| 3.0|3.0|Sometimes|   no| 2.0| no|1.0|0.0| Sometimes|           Motorbike|      Normal_Weight|         1.0|                                 0.0|       0.0|       0.0|        0.0|      0.0|       0.0|         3.0|             5.0|(17,[0,1,2,3,4,5,...|\n",
            "|  Male|22.0|  1.64|  53.0|                            no|  no| 2.0|3.0|Sometimes|   no| 2.0| no|3.0|0.0| Sometimes|Public_Transporta...|      Normal_Weight|         0.0|                                 1.0|       1.0|       0.0|        0.0|      0.0|       0.0|         0.0|             5.0|(17,[0,1,2,3,4,5,...|\n",
            "|  Male|24.0|  1.78|  64.0|                           yes| yes| 3.0|3.0|Sometimes|   no| 2.0| no|1.0|1.0|Frequently|Public_Transporta...|      Normal_Weight|         0.0|                                 0.0|       0.0|       0.0|        0.0|      0.0|       2.0|         0.0|             5.0|(17,[0,1,2,3,4,5,...|\n",
            "|  Male|22.0|  1.72|  68.0|                           yes| yes| 2.0|3.0|Sometimes|   no| 2.0| no|1.0|1.0|        no|Public_Transporta...|      Normal_Weight|         0.0|                                 0.0|       0.0|       0.0|        0.0|      0.0|       1.0|         0.0|             5.0|(17,[0,1,2,3,4,5,...|\n",
            "+------+----+------+------+------------------------------+----+----+---+---------+-----+----+---+---+---+----------+--------------------+-------------------+------------+------------------------------------+----------+----------+-----------+---------+----------+------------+----------------+--------------------+\n",
            "only showing top 10 rows\n",
            "\n"
          ]
        }
      ]
    },
    {
      "cell_type": "code",
      "source": [
        "target_variable = final_data.select('NObeyesdad', 'NObeyesdad_index').distinct()\n",
        "target_variable.show()"
      ],
      "metadata": {
        "colab": {
          "base_uri": "https://localhost:8080/"
        },
        "id": "Cw65Ybx9Y34b",
        "outputId": "a3989505-5b91-4e73-bdb7-ed9e1dd4d949"
      },
      "execution_count": 153,
      "outputs": [
        {
          "output_type": "stream",
          "name": "stdout",
          "text": [
            "+-------------------+----------------+\n",
            "|         NObeyesdad|NObeyesdad_index|\n",
            "+-------------------+----------------+\n",
            "|Insufficient_Weight|             6.0|\n",
            "|      Normal_Weight|             5.0|\n",
            "| Overweight_Level_I|             3.0|\n",
            "|    Obesity_Type_II|             2.0|\n",
            "|Overweight_Level_II|             4.0|\n",
            "|     Obesity_Type_I|             0.0|\n",
            "|   Obesity_Type_III|             1.0|\n",
            "+-------------------+----------------+\n",
            "\n"
          ]
        }
      ]
    },
    {
      "cell_type": "code",
      "source": [
        "final_data.select(\"features\").show(10)"
      ],
      "metadata": {
        "colab": {
          "base_uri": "https://localhost:8080/"
        },
        "id": "IIDXw3XCuDP6",
        "outputId": "e0d54a24-e653-41e8-834a-801c483397e4"
      },
      "execution_count": 154,
      "outputs": [
        {
          "output_type": "stream",
          "name": "stdout",
          "text": [
            "+--------------------+\n",
            "|            features|\n",
            "+--------------------+\n",
            "|[21.0,1.62,64.0,2...|\n",
            "|[21.0,1.52,56.0,3...|\n",
            "|[23.0,1.8,77.0,2....|\n",
            "|[27.0,1.8,87.0,3....|\n",
            "|(17,[0,1,2,3,4,5,...|\n",
            "|(17,[0,1,2,3,4,5,...|\n",
            "|(17,[0,1,2,3,4,5,...|\n",
            "|(17,[0,1,2,3,4,5,...|\n",
            "|(17,[0,1,2,3,4,5,...|\n",
            "|(17,[0,1,2,3,4,5,...|\n",
            "+--------------------+\n",
            "only showing top 10 rows\n",
            "\n"
          ]
        }
      ]
    },
    {
      "cell_type": "code",
      "source": [
        "final_data_new = final_data.select(\"features\",'NObeyesdad_index')"
      ],
      "metadata": {
        "id": "I9aBB4VfuDbH"
      },
      "execution_count": 155,
      "outputs": []
    },
    {
      "cell_type": "code",
      "source": [
        "final_data_new.printSchema()"
      ],
      "metadata": {
        "colab": {
          "base_uri": "https://localhost:8080/"
        },
        "id": "tZn3Sv0quDdi",
        "outputId": "73c45ea3-740a-4ec5-95e6-cc49aa88d780"
      },
      "execution_count": 156,
      "outputs": [
        {
          "output_type": "stream",
          "name": "stdout",
          "text": [
            "root\n",
            " |-- features: vector (nullable = true)\n",
            " |-- NObeyesdad_index: double (nullable = false)\n",
            "\n"
          ]
        }
      ]
    },
    {
      "cell_type": "code",
      "source": [
        "final_data_new.show()"
      ],
      "metadata": {
        "colab": {
          "base_uri": "https://localhost:8080/"
        },
        "id": "BRUMxRpZuDf5",
        "outputId": "07e8b80b-26db-4f0c-ac37-0da891991661"
      },
      "execution_count": 157,
      "outputs": [
        {
          "output_type": "stream",
          "name": "stdout",
          "text": [
            "+--------------------+----------------+\n",
            "|            features|NObeyesdad_index|\n",
            "+--------------------+----------------+\n",
            "|[21.0,1.62,64.0,2...|             5.0|\n",
            "|[21.0,1.52,56.0,3...|             5.0|\n",
            "|[23.0,1.8,77.0,2....|             5.0|\n",
            "|[27.0,1.8,87.0,3....|             3.0|\n",
            "|(17,[0,1,2,3,4,5,...|             4.0|\n",
            "|(17,[0,1,2,3,4,5,...|             5.0|\n",
            "|(17,[0,1,2,3,4,5,...|             5.0|\n",
            "|(17,[0,1,2,3,4,5,...|             5.0|\n",
            "|(17,[0,1,2,3,4,5,...|             5.0|\n",
            "|(17,[0,1,2,3,4,5,...|             5.0|\n",
            "|(17,[0,1,2,3,4,5,...|             0.0|\n",
            "|[21.0,1.72,80.0,2...|             4.0|\n",
            "|(17,[0,1,2,3,4,5,...|             5.0|\n",
            "|[41.0,1.8,99.0,2....|             0.0|\n",
            "|(17,[0,1,2,3,4,5,...|             5.0|\n",
            "|[22.0,1.7,66.0,3....|             5.0|\n",
            "|(17,[0,1,2,3,4,5,...|             4.0|\n",
            "|(17,[0,1,2,3,4,5,...|             0.0|\n",
            "|[30.0,1.71,82.0,3...|             4.0|\n",
            "|(17,[0,1,2,3,4,5,...|             3.0|\n",
            "+--------------------+----------------+\n",
            "only showing top 20 rows\n",
            "\n"
          ]
        }
      ]
    },
    {
      "cell_type": "code",
      "source": [
        "# Pass in the split between training/test as a list.\n",
        "train_data,test_data = final_data_new.randomSplit([0.7,0.3], seed=25)"
      ],
      "metadata": {
        "id": "K4Hn_V6XW8XA"
      },
      "execution_count": 158,
      "outputs": []
    },
    {
      "cell_type": "code",
      "source": [
        "print(train_data.show(10))"
      ],
      "metadata": {
        "colab": {
          "base_uri": "https://localhost:8080/"
        },
        "id": "chyvLk-QXlLr",
        "outputId": "f1d92bcc-79d1-4352-97ae-31f2722b09fa"
      },
      "execution_count": 159,
      "outputs": [
        {
          "output_type": "stream",
          "name": "stdout",
          "text": [
            "+--------------------+----------------+\n",
            "|            features|NObeyesdad_index|\n",
            "+--------------------+----------------+\n",
            "|(17,[0,1,2,3,4,5]...|             0.0|\n",
            "|(17,[0,1,2,3,4,5]...|             0.0|\n",
            "|(17,[0,1,2,3,4,5,...|             0.0|\n",
            "|(17,[0,1,2,3,4,5,...|             0.0|\n",
            "|(17,[0,1,2,3,4,5,...|             0.0|\n",
            "|(17,[0,1,2,3,4,5,...|             0.0|\n",
            "|(17,[0,1,2,3,4,5,...|             0.0|\n",
            "|(17,[0,1,2,3,4,5,...|             0.0|\n",
            "|(17,[0,1,2,3,4,5,...|             0.0|\n",
            "|(17,[0,1,2,3,4,5,...|             0.0|\n",
            "+--------------------+----------------+\n",
            "only showing top 10 rows\n",
            "\n",
            "None\n"
          ]
        }
      ]
    },
    {
      "cell_type": "code",
      "source": [
        "test_data.show(10)"
      ],
      "metadata": {
        "id": "I3NrOWswX7fr",
        "colab": {
          "base_uri": "https://localhost:8080/"
        },
        "outputId": "80ce60a9-f941-4536-cd08-e7f58e1abc1d"
      },
      "execution_count": 160,
      "outputs": [
        {
          "output_type": "stream",
          "name": "stdout",
          "text": [
            "+--------------------+----------------+\n",
            "|            features|NObeyesdad_index|\n",
            "+--------------------+----------------+\n",
            "|(17,[0,1,2,3,4,5,...|             0.0|\n",
            "|(17,[0,1,2,3,4,5,...|             0.0|\n",
            "|(17,[0,1,2,3,4,5,...|             0.0|\n",
            "|(17,[0,1,2,3,4,5,...|             0.0|\n",
            "|(17,[0,1,2,3,4,5,...|             0.0|\n",
            "|(17,[0,1,2,3,4,5,...|             0.0|\n",
            "|(17,[0,1,2,3,4,5,...|             0.0|\n",
            "|(17,[0,1,2,3,4,5,...|             0.0|\n",
            "|(17,[0,1,2,3,4,5,...|             0.0|\n",
            "|(17,[0,1,2,3,4,5,...|             0.0|\n",
            "+--------------------+----------------+\n",
            "only showing top 10 rows\n",
            "\n"
          ]
        }
      ]
    },
    {
      "cell_type": "code",
      "source": [
        "# @title LINEAR REGRESSION (LR)"
      ],
      "metadata": {
        "id": "ICS-AD8hkGw-"
      },
      "execution_count": 161,
      "outputs": []
    },
    {
      "cell_type": "code",
      "source": [
        "spark = SparkSession.builder.appName('lr_model').getOrCreate()\n",
        "\n",
        "from pyspark.ml.regression import LinearRegression"
      ],
      "metadata": {
        "id": "WqpC8orokqvM"
      },
      "execution_count": 162,
      "outputs": []
    },
    {
      "cell_type": "code",
      "source": [
        "# Linear Regression Model object\n",
        "lr = LinearRegression(labelCol='NObeyesdad_index', featuresCol=\"features\")\n",
        "\n",
        "# Fitting the model\n",
        "lrModel = lr.fit(train_data)\n",
        "\n",
        "# Coefficients and intercept for linear regression\n",
        "print(\"Coefficients: {} Intercept: {}\".format(lrModel.coefficients,lrModel.intercept))"
      ],
      "metadata": {
        "id": "9Uk2YFSdZ5f4",
        "colab": {
          "base_uri": "https://localhost:8080/"
        },
        "outputId": "18d84929-580d-4bae-cfab-220458b3e951"
      },
      "execution_count": 163,
      "outputs": [
        {
          "output_type": "stream",
          "name": "stdout",
          "text": [
            "Coefficients: [-8.464590966251455e-16,-2.3898715131031593e-13,4.1556299129365935e-16,-4.180908323253981e-15,7.716401596859655e-16,8.16620538845909e-17,3.9323840696852124e-15,-1.907102997197993e-15,-2.1369059621835945e-14,-6.07494093339919e-15,-9.39532443355072e-15,-6.580915248440873e-16,6.215984699599609e-15,-2.5837449528363142e-15,-1.4954046495902473e-15,3.749107840190424e-15,1.0000000000000029] Intercept: 4.0132088757335286e-13\n"
          ]
        }
      ]
    },
    {
      "cell_type": "code",
      "source": [
        "test_results = lrModel.evaluate(test_data)"
      ],
      "metadata": {
        "id": "g-YDFlgXbf8w"
      },
      "execution_count": 164,
      "outputs": []
    },
    {
      "cell_type": "code",
      "source": [
        "# Make predictions on unlabled data\n",
        "unlabeled_data = test_data.select('features')\n",
        "\n",
        "lr_predictions = lrModel.transform(unlabeled_data)"
      ],
      "metadata": {
        "id": "fuvhZiUHw0mM"
      },
      "execution_count": 165,
      "outputs": []
    },
    {
      "cell_type": "code",
      "source": [
        "lr_predictions.show()\n",
        "print(\"Linear Regression RMSE: {}\".format(test_results.rootMeanSquaredError))\n",
        "print(\"Linear Regression MSE: {}\".format(test_results.meanSquaredError))"
      ],
      "metadata": {
        "colab": {
          "base_uri": "https://localhost:8080/"
        },
        "id": "oAN8aIOodd3j",
        "outputId": "9a7bb8e1-4c38-4815-b7cb-535801f704a6"
      },
      "execution_count": 166,
      "outputs": [
        {
          "output_type": "stream",
          "name": "stdout",
          "text": [
            "+--------------------+--------------------+\n",
            "|            features|          prediction|\n",
            "+--------------------+--------------------+\n",
            "|(17,[0,1,2,3,4,5,...|-4.18338590440547...|\n",
            "|(17,[0,1,2,3,4,5,...|-1.62746783041124...|\n",
            "|(17,[0,1,2,3,4,5,...|-2.26904561918509...|\n",
            "|(17,[0,1,2,3,4,5,...|-3.35414553227793...|\n",
            "|(17,[0,1,2,3,4,5,...|-8.92552384323848...|\n",
            "|(17,[0,1,2,3,4,5,...|-9.28032294177675...|\n",
            "|(17,[0,1,2,3,4,5,...|-2.33961402542932...|\n",
            "|(17,[0,1,2,3,4,5,...|-2.02892534635006...|\n",
            "|(17,[0,1,2,3,4,5,...|-4.22520957441559...|\n",
            "|(17,[0,1,2,3,4,5,...|-7.6267040484531E-15|\n",
            "|(17,[0,1,2,3,4,5,...|-1.8226363683256E-14|\n",
            "|(17,[0,1,2,3,4,5,...|3.234557726477541...|\n",
            "|(17,[0,1,2,3,4,5,...|-2.80080805054379...|\n",
            "|(17,[0,1,2,3,4,5,...|-3.62913140276437...|\n",
            "|(17,[0,1,2,3,4,5,...|9.897886670191211...|\n",
            "|(17,[0,1,2,3,4,5,...|5.100086896271596...|\n",
            "|(17,[0,1,2,3,4,5,...|-1.44903291643486...|\n",
            "|(17,[0,1,2,3,4,5,...|1.018328240284919...|\n",
            "|(17,[0,1,2,3,4,5,...|-2.75625347361304...|\n",
            "|(17,[0,1,2,3,4,5,...|-2.02304083425494...|\n",
            "+--------------------+--------------------+\n",
            "only showing top 20 rows\n",
            "\n",
            "Linear Regression RMSE: 1.414367178839657e-14\n",
            "Linear Regression MSE: 2.0004345165788501e-28\n"
          ]
        }
      ]
    },
    {
      "cell_type": "code",
      "source": [
        "# @title RANDOM FOREST (RF)\n",
        "from pyspark.ml.classification import RandomForestClassifier\n",
        "from pyspark.ml.evaluation import MulticlassClassificationEvaluator\n",
        "\n",
        "# Create a Random Forest Classifier object\n",
        "rf_classifier = RandomForestClassifier(labelCol=\"NObeyesdad_index\", featuresCol=\"features\")\n",
        "\n",
        "# Fit the model\n",
        "rf_model_classifier = rf_classifier.fit(train_data)\n",
        "\n",
        "# Make predictions\n",
        "rf_predictions_classifier = rf_model_classifier.transform(test_data)\n",
        "\n",
        "# Make predictions on unlabled data\n",
        "rf_unlabeled_data = test_data.select('features')\n",
        "rf_predictions = rf_model_classifier.transform(unlabeled_data)"
      ],
      "metadata": {
        "id": "MaVXLvhf53b8"
      },
      "execution_count": 167,
      "outputs": []
    },
    {
      "cell_type": "code",
      "source": [
        "rf_predictions.show()\n",
        "\n",
        "# Evaluate accuracy\n",
        "evaluator_accuracy = MulticlassClassificationEvaluator(labelCol=\"NObeyesdad_index\", predictionCol=\"prediction\", metricName=\"accuracy\")\n",
        "accuracy = evaluator_accuracy.evaluate(rf_predictions_classifier)\n",
        "print(\"Random Forest Accuracy:\", accuracy)\n",
        "\n",
        "# Evaluate precision\n",
        "evaluator_precision = MulticlassClassificationEvaluator(labelCol=\"NObeyesdad_index\", predictionCol=\"prediction\", metricName=\"weightedPrecision\")\n",
        "precision = evaluator_precision.evaluate(rf_predictions_classifier)\n",
        "print(\"Random Forest Precision:\", precision)\n",
        "\n",
        "# Evaluate recall\n",
        "evaluator_recall = MulticlassClassificationEvaluator(labelCol=\"NObeyesdad_index\", predictionCol=\"prediction\", metricName=\"weightedRecall\")\n",
        "recall = evaluator_recall.evaluate(rf_predictions_classifier)\n",
        "print(\"Random Forest Recall:\", recall)\n",
        "\n",
        "# Evaluate F1-score\n",
        "evaluator_f1 = MulticlassClassificationEvaluator(labelCol=\"NObeyesdad_index\", predictionCol=\"prediction\", metricName=\"f1\")\n",
        "f1_score = evaluator_f1.evaluate(rf_predictions_classifier)\n",
        "print(\"Random Forest F1-score:\", f1_score)"
      ],
      "metadata": {
        "colab": {
          "base_uri": "https://localhost:8080/"
        },
        "id": "GpvEAo0YmHhd",
        "outputId": "2bad84f6-b8d3-4c0d-d3b6-bd17189ec1f0"
      },
      "execution_count": 168,
      "outputs": [
        {
          "output_type": "stream",
          "name": "stdout",
          "text": [
            "+--------------------+--------------------+--------------------+----------+\n",
            "|            features|       rawPrediction|         probability|prediction|\n",
            "+--------------------+--------------------+--------------------+----------+\n",
            "|(17,[0,1,2,3,4,5,...|[17.6491733829502...|[0.88245866914751...|       0.0|\n",
            "|(17,[0,1,2,3,4,5,...|[17.0998389179632...|[0.85499194589816...|       0.0|\n",
            "|(17,[0,1,2,3,4,5,...|[17.0998389179632...|[0.85499194589816...|       0.0|\n",
            "|(17,[0,1,2,3,4,5,...|[17.1387023226523...|[0.85693511613261...|       0.0|\n",
            "|(17,[0,1,2,3,4,5,...|[17.6491733829502...|[0.88245866914751...|       0.0|\n",
            "|(17,[0,1,2,3,4,5,...|[17.6491733829502...|[0.88245866914751...|       0.0|\n",
            "|(17,[0,1,2,3,4,5,...|[17.4099942249828...|[0.87049971124914...|       0.0|\n",
            "|(17,[0,1,2,3,4,5,...|[16.8602110120199...|[0.84301055060099...|       0.0|\n",
            "|(17,[0,1,2,3,4,5,...|[12.9773972450199...|[0.64886986225099...|       0.0|\n",
            "|(17,[0,1,2,3,4,5,...|[15.5857755705249...|[0.77928877852624...|       0.0|\n",
            "|(17,[0,1,2,3,4,5,...|[14.3545759557849...|[0.71772879778924...|       0.0|\n",
            "|(17,[0,1,2,3,4,5,...|[17.6347356791134...|[0.88173678395567...|       0.0|\n",
            "|(17,[0,1,2,3,4,5,...|[17.6194037887816...|[0.88097018943908...|       0.0|\n",
            "|(17,[0,1,2,3,4,5,...|[17.8288193731971...|[0.89144096865985...|       0.0|\n",
            "|(17,[0,1,2,3,4,5,...|[16.7847243894544...|[0.83923621947272...|       0.0|\n",
            "|(17,[0,1,2,3,4,5,...|[16.8616702314195...|[0.84308351157097...|       0.0|\n",
            "|(17,[0,1,2,3,4,5,...|[17.5589179378415...|[0.87794589689207...|       0.0|\n",
            "|(17,[0,1,2,3,4,5,...|[18.2517270211048...|[0.91258635105524...|       0.0|\n",
            "|(17,[0,1,2,3,4,5,...|[18.2517270211048...|[0.91258635105524...|       0.0|\n",
            "|(17,[0,1,2,3,4,5,...|[18.4611426055204...|[0.92305713027602...|       0.0|\n",
            "+--------------------+--------------------+--------------------+----------+\n",
            "only showing top 20 rows\n",
            "\n",
            "Random Forest Accuracy: 0.9875195007800313\n",
            "Random Forest Precision: 0.9879455945433584\n",
            "Random Forest Recall: 0.9875195007800313\n",
            "Random Forest F1-score: 0.9874965142441369\n"
          ]
        }
      ]
    },
    {
      "cell_type": "code",
      "source": [
        "# @title Logistic Regression\n",
        "from pyspark.ml.classification import LogisticRegression\n",
        "from pyspark.ml.evaluation import MulticlassClassificationEvaluator\n",
        "\n",
        "lrr_classifier = LogisticRegression(labelCol=\"NObeyesdad_index\", featuresCol=\"features\")\n",
        "\n",
        "# Fit the model\n",
        "lrr_model_classifier = lrr_classifier.fit(train_data)\n",
        "\n",
        "# Make predictions\n",
        "lrr_predictions_classifier = lrr_model_classifier.transform(test_data)\n",
        "\n",
        "# Make predictions on unlabeled data\n",
        "unlabeled_data = test_data.select('features')\n",
        "lrr_predictions = lrr_model_classifier.transform(unlabeled_data)\n"
      ],
      "metadata": {
        "id": "aVdrXTy39o8n"
      },
      "execution_count": 169,
      "outputs": []
    },
    {
      "cell_type": "code",
      "source": [
        "lrr_predictions.show()\n",
        "\n",
        "# Evaluate the model\n",
        "evaluator_accuracy_LogisticRegression = MulticlassClassificationEvaluator(labelCol=\"NObeyesdad_index\", predictionCol=\"prediction\", metricName=\"accuracy\")\n",
        "accuracy = evaluator_accuracy_LogisticRegression.evaluate(lrr_predictions_classifier)\n",
        "print(\"LogisticRegression Accuracy:\", accuracy)\n",
        "\n",
        "# Evaluate precision\n",
        "evaluator_precision_LogisticRegression = MulticlassClassificationEvaluator(labelCol=\"NObeyesdad_index\", predictionCol=\"prediction\", metricName=\"weightedPrecision\")\n",
        "precision = evaluator_precision_LogisticRegression.evaluate(lrr_predictions_classifier)\n",
        "print(\"LogisticRegression Precision:\", precision)\n",
        "\n",
        "# Evaluate recall\n",
        "evaluator_recall_LogisticRegression = MulticlassClassificationEvaluator(labelCol=\"NObeyesdad_index\", predictionCol=\"prediction\", metricName=\"weightedRecall\")\n",
        "recall = evaluator_recall_LogisticRegression.evaluate(lrr_predictions_classifier)\n",
        "print(\"LogisticRegression Recall:\", recall)\n",
        "\n",
        "# Evaluate F1-score\n",
        "evaluator_f1_LogisticRegression = MulticlassClassificationEvaluator(labelCol=\"NObeyesdad_index\", predictionCol=\"prediction\", metricName=\"f1\")\n",
        "f1_score = evaluator_f1_LogisticRegression.evaluate(lrr_predictions_classifier)\n",
        "print(\"LogisticRegression F1-score:\", f1_score)"
      ],
      "metadata": {
        "colab": {
          "base_uri": "https://localhost:8080/"
        },
        "id": "c9kLZif3x1Cj",
        "outputId": "f2a2e029-fede-445c-9ccf-bfbe9ecc7bb8"
      },
      "execution_count": 170,
      "outputs": [
        {
          "output_type": "stream",
          "name": "stdout",
          "text": [
            "+--------------------+--------------------+--------------------+----------+\n",
            "|            features|       rawPrediction|         probability|prediction|\n",
            "+--------------------+--------------------+--------------------+----------+\n",
            "|(17,[0,1,2,3,4,5,...|[324.130833308336...|[1.0,1.3444956339...|       0.0|\n",
            "|(17,[0,1,2,3,4,5,...|[326.494862031673...|[1.0,1.1422528236...|       0.0|\n",
            "|(17,[0,1,2,3,4,5,...|[312.880785725742...|[1.0,8.3279602540...|       0.0|\n",
            "|(17,[0,1,2,3,4,5,...|[309.419977987617...|[1.0,5.5457074056...|       0.0|\n",
            "|(17,[0,1,2,3,4,5,...|[299.180877974745...|[1.0,4.2949866815...|       0.0|\n",
            "|(17,[0,1,2,3,4,5,...|[306.384621293440...|[1.0,8.2173583691...|       0.0|\n",
            "|(17,[0,1,2,3,4,5,...|[310.333576663647...|[1.0,7.9729193984...|       0.0|\n",
            "|(17,[0,1,2,3,4,5,...|[303.030783727810...|[1.0,1.8122335138...|       0.0|\n",
            "|(17,[0,1,2,3,4,5,...|[326.922709980687...|[1.0,3.7527307842...|       0.0|\n",
            "|(17,[0,1,2,3,4,5,...|[346.835513087790...|[1.0,9.9282878333...|       0.0|\n",
            "|(17,[0,1,2,3,4,5,...|[324.742822324381...|[1.0,2.4286735193...|       0.0|\n",
            "|(17,[0,1,2,3,4,5,...|[356.913196832430...|[1.0,8.4768616062...|       0.0|\n",
            "|(17,[0,1,2,3,4,5,...|[323.627930456678...|[1.0,2.7581893758...|       0.0|\n",
            "|(17,[0,1,2,3,4,5,...|[313.779772463822...|[1.0,1.5321767141...|       0.0|\n",
            "|(17,[0,1,2,3,4,5,...|[388.022305539880...|[1.0,8.6492516103...|       0.0|\n",
            "|(17,[0,1,2,3,4,5,...|[358.830021734016...|[1.0,5.5385525292...|       0.0|\n",
            "|(17,[0,1,2,3,4,5,...|[357.716805327058...|[1.0,1.9660308512...|       0.0|\n",
            "|(17,[0,1,2,3,4,5,...|[379.391716522847...|[1.0,1.4450194074...|       0.0|\n",
            "|(17,[0,1,2,3,4,5,...|[327.934529336009...|[1.0,1.7091817377...|       0.0|\n",
            "|(17,[0,1,2,3,4,5,...|[346.007914617906...|[1.0,5.2861972062...|       0.0|\n",
            "+--------------------+--------------------+--------------------+----------+\n",
            "only showing top 20 rows\n",
            "\n",
            "LogisticRegression Accuracy: 0.9906396255850234\n",
            "LogisticRegression Precision: 0.9910237717720582\n",
            "LogisticRegression Recall: 0.9906396255850235\n",
            "LogisticRegression F1-score: 0.9906976174147035\n"
          ]
        }
      ]
    },
    {
      "cell_type": "code",
      "source": [
        "\n",
        "import pandas as pd\n",
        "# Export predictions to CSV files\n",
        "#lr_predictions.toPandas().to_csv(\"lr_predictions.csv\", index=False)\n",
        "#rf_predictions.toPandas().to_csv(\"rf_predictions.csv\", index=False)\n",
        "#lrr_predictions.toPandas().to_csv(\"lrr_predictions.csv\", index=False)\n"
      ],
      "metadata": {
        "id": "IqPHLrSH8wXM"
      },
      "execution_count": 171,
      "outputs": []
    },
    {
      "cell_type": "code",
      "source": [
        "data_with_predictions = data.join(lr_predictions.select(lr_predictions[\"prediction\"].alias(\"prediction_lr\")), how='inner').join(rf_predictions.select(rf_predictions[\"prediction\"].alias(\"prediction_rf\")), how='inner').join(lrr_predictions.select(lrr_predictions[\"prediction\"].alias(\"prediction_lrr\")), how='inner')\n",
        "#final_data_with_rf_predictions = final_data.join(rf_predictions.select('prediction'), how='inner')\n",
        "#final_data_with_lrr_predictions = final_data.join(lrr_predictions.select('prediction'), how='inner')"
      ],
      "metadata": {
        "id": "v5se8d7VBqxv"
      },
      "execution_count": 172,
      "outputs": []
    },
    {
      "cell_type": "code",
      "source": [
        "data_with_predictions.show()"
      ],
      "metadata": {
        "colab": {
          "base_uri": "https://localhost:8080/"
        },
        "id": "Le_1ENVfIPqy",
        "outputId": "42934c55-6ca6-4966-f56c-4c056f3e32b7"
      },
      "execution_count": 173,
      "outputs": [
        {
          "output_type": "stream",
          "name": "stdout",
          "text": [
            "+------+----+------+------+------------------------------+----+----+---+---------+-----+----+---+---+---+----+--------------------+-------------+--------------------+-------------+--------------+\n",
            "|Gender| Age|Height|Weight|family_history_with_overweight|FAVC|FCVC|NCP|     CAEC|SMOKE|CH2O|SCC|FAF|TUE|CALC|              MTRANS|   NObeyesdad|       prediction_lr|prediction_rf|prediction_lrr|\n",
            "+------+----+------+------+------------------------------+----+----+---+---------+-----+----+---+---+---+----+--------------------+-------------+--------------------+-------------+--------------+\n",
            "|Female|21.0|  1.62|  64.0|                           yes|  no| 2.0|3.0|Sometimes|   no| 2.0| no|0.0|1.0|  no|Public_Transporta...|Normal_Weight|-4.18338590440547...|          0.0|           0.0|\n",
            "|Female|21.0|  1.62|  64.0|                           yes|  no| 2.0|3.0|Sometimes|   no| 2.0| no|0.0|1.0|  no|Public_Transporta...|Normal_Weight|-4.18338590440547...|          0.0|           0.0|\n",
            "|Female|21.0|  1.62|  64.0|                           yes|  no| 2.0|3.0|Sometimes|   no| 2.0| no|0.0|1.0|  no|Public_Transporta...|Normal_Weight|-4.18338590440547...|          0.0|           0.0|\n",
            "|Female|21.0|  1.62|  64.0|                           yes|  no| 2.0|3.0|Sometimes|   no| 2.0| no|0.0|1.0|  no|Public_Transporta...|Normal_Weight|-4.18338590440547...|          0.0|           0.0|\n",
            "|Female|21.0|  1.62|  64.0|                           yes|  no| 2.0|3.0|Sometimes|   no| 2.0| no|0.0|1.0|  no|Public_Transporta...|Normal_Weight|-4.18338590440547...|          0.0|           0.0|\n",
            "|Female|21.0|  1.62|  64.0|                           yes|  no| 2.0|3.0|Sometimes|   no| 2.0| no|0.0|1.0|  no|Public_Transporta...|Normal_Weight|-4.18338590440547...|          0.0|           0.0|\n",
            "|Female|21.0|  1.62|  64.0|                           yes|  no| 2.0|3.0|Sometimes|   no| 2.0| no|0.0|1.0|  no|Public_Transporta...|Normal_Weight|-4.18338590440547...|          0.0|           0.0|\n",
            "|Female|21.0|  1.62|  64.0|                           yes|  no| 2.0|3.0|Sometimes|   no| 2.0| no|0.0|1.0|  no|Public_Transporta...|Normal_Weight|-4.18338590440547...|          0.0|           0.0|\n",
            "|Female|21.0|  1.62|  64.0|                           yes|  no| 2.0|3.0|Sometimes|   no| 2.0| no|0.0|1.0|  no|Public_Transporta...|Normal_Weight|-4.18338590440547...|          0.0|           0.0|\n",
            "|Female|21.0|  1.62|  64.0|                           yes|  no| 2.0|3.0|Sometimes|   no| 2.0| no|0.0|1.0|  no|Public_Transporta...|Normal_Weight|-4.18338590440547...|          0.0|           0.0|\n",
            "|Female|21.0|  1.62|  64.0|                           yes|  no| 2.0|3.0|Sometimes|   no| 2.0| no|0.0|1.0|  no|Public_Transporta...|Normal_Weight|-4.18338590440547...|          0.0|           0.0|\n",
            "|Female|21.0|  1.62|  64.0|                           yes|  no| 2.0|3.0|Sometimes|   no| 2.0| no|0.0|1.0|  no|Public_Transporta...|Normal_Weight|-4.18338590440547...|          0.0|           0.0|\n",
            "|Female|21.0|  1.62|  64.0|                           yes|  no| 2.0|3.0|Sometimes|   no| 2.0| no|0.0|1.0|  no|Public_Transporta...|Normal_Weight|-4.18338590440547...|          0.0|           0.0|\n",
            "|Female|21.0|  1.62|  64.0|                           yes|  no| 2.0|3.0|Sometimes|   no| 2.0| no|0.0|1.0|  no|Public_Transporta...|Normal_Weight|-4.18338590440547...|          0.0|           0.0|\n",
            "|Female|21.0|  1.62|  64.0|                           yes|  no| 2.0|3.0|Sometimes|   no| 2.0| no|0.0|1.0|  no|Public_Transporta...|Normal_Weight|-4.18338590440547...|          0.0|           0.0|\n",
            "|Female|21.0|  1.62|  64.0|                           yes|  no| 2.0|3.0|Sometimes|   no| 2.0| no|0.0|1.0|  no|Public_Transporta...|Normal_Weight|-4.18338590440547...|          0.0|           0.0|\n",
            "|Female|21.0|  1.62|  64.0|                           yes|  no| 2.0|3.0|Sometimes|   no| 2.0| no|0.0|1.0|  no|Public_Transporta...|Normal_Weight|-4.18338590440547...|          0.0|           0.0|\n",
            "|Female|21.0|  1.62|  64.0|                           yes|  no| 2.0|3.0|Sometimes|   no| 2.0| no|0.0|1.0|  no|Public_Transporta...|Normal_Weight|-4.18338590440547...|          0.0|           0.0|\n",
            "|Female|21.0|  1.62|  64.0|                           yes|  no| 2.0|3.0|Sometimes|   no| 2.0| no|0.0|1.0|  no|Public_Transporta...|Normal_Weight|-4.18338590440547...|          0.0|           0.0|\n",
            "|Female|21.0|  1.62|  64.0|                           yes|  no| 2.0|3.0|Sometimes|   no| 2.0| no|0.0|1.0|  no|Public_Transporta...|Normal_Weight|-4.18338590440547...|          0.0|           0.0|\n",
            "+------+----+------+------+------------------------------+----+----+---+---------+-----+----+---+---+---+----+--------------------+-------------+--------------------+-------------+--------------+\n",
            "only showing top 20 rows\n",
            "\n"
          ]
        }
      ]
    },
    {
      "cell_type": "code",
      "source": [
        "#data_prediction = data_with_predictions.toPandas()\n",
        "#data_prediction.to_csv('final_data.csv', header = True)"
      ],
      "metadata": {
        "id": "nI0pVDZCbwO1"
      },
      "execution_count": 174,
      "outputs": []
    },
    {
      "cell_type": "code",
      "source": [
        "#data_prediction.to_csv('final_data_1.csv', header = True)"
      ],
      "metadata": {
        "id": "z57r7h7A5MRh"
      },
      "execution_count": 175,
      "outputs": []
    }
  ]
}